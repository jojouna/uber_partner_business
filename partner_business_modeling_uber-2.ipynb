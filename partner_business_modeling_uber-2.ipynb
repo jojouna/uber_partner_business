{
 "cells": [
  {
   "cell_type": "markdown",
   "id": "2796a2c2-4536-4667-a8be-39745eb24606",
   "metadata": {},
   "source": [
    "# Parnter Business Modeling - Uber"
   ]
  },
  {
   "cell_type": "markdown",
   "id": "dadfb422-0916-4f69-a9aa-2eda6bf2b9a2",
   "metadata": {},
   "source": [
    "## Assignment\n",
    "\n",
    "<b>Scenario 1: It is going to be a huge Saturday and there will need to be many more cars on the road than last week. In order to get drivers to go online, we're assessing the following two bonus options in terms of cost:</b>\n",
    "\n",
    "- Option 1: \\$50 for each driver that is online at least 8 hours, accepts 90% of requests, completes 10 trips, and has a rating of 4.7 or better during the time frame;\n",
    "- Option 2: $4/trip for all drivers who complete 12 trips, and have a 4.7 or better rating.\n",
    "Using the dataset provided and given Scenario 1, provide answers to the questions below:\n",
    "\n",
    "- How much would the total bonus payout be with Option 1?\n",
    "- How much would the total bonus payout be with Option 2?\n",
    "- How many drivers would qualify for a bonus under Option 1 but not under Option 2?\n",
    "- What percentages of drivers online completed less than 10 trips, had an acceptance rate of less than 90%, and had a rating of 4.7 or higher?\n",
    "\n",
    "<b>Scenario 2: A taxi driver currently generates $200 per day in fares (before expenses), works six days a week, takes three weeks off, and has the following expenses:</b>\n",
    "\n",
    "- Gas - \\$200 per week\n",
    "- Insurance - \\$400 per month\n",
    "- Vehicle rent (by the week) - \\$500\n",
    "\n",
    "The driver doesn't pay gas and rent expenses on off weeks.\n",
    "\n",
    "Now, let's assume that the same driver would buy a Town Car and partner with Uber. If he does, his gas expenses would go up by 5%, his insurance expense would decrease by 20%, and he would no longer be renting a vehicle. However, he would need to buy a car. The driver would still take three weeks off per year.\n",
    "\n",
    "Given Scenario 2, provide answers to the questions below:\n",
    "\n",
    "- How much money (after expenses) does the taxi driver make per year without partnering with Uber?\n",
    "- You are convincing the same driver above to buy a Town Car and partner with Uber. Assuming the new car is 40,000 USD, how much would the driver's gross fares need to increase per week to fully pay for the car in year 1 and maintain the same yearly profit margin as before?\n"
   ]
  },
  {
   "cell_type": "markdown",
   "id": "f4baf20d-858a-4941-af5f-5aa4d78b0c4f",
   "metadata": {},
   "source": [
    "## Data Analysis and Cleaning"
   ]
  },
  {
   "cell_type": "code",
   "execution_count": 1,
   "id": "5f80e0ed-1757-49d5-b71c-b4f510b1716b",
   "metadata": {},
   "outputs": [],
   "source": [
    "# Import necessary libraries\n",
    "import pandas as pd\n",
    "import numpy as np"
   ]
  },
  {
   "cell_type": "markdown",
   "id": "1c1959e3-99ae-4e9f-9fa1-62d22fe8fa4e",
   "metadata": {},
   "source": [
    "The dataset is given in the file `dataset_2.csv`. The data come from rides on a busy Saturday and are aggregated on a driver level. The dataset provides information on the total number of completed trips, the driver's acceptance rate, the total number of hours on duty, and the average rating."
   ]
  },
  {
   "cell_type": "code",
   "execution_count": 2,
   "id": "19e10601-9fda-46ef-a1e6-244e885b42e0",
   "metadata": {
    "scrolled": true
   },
   "outputs": [
    {
     "data": {
      "text/html": [
       "<div>\n",
       "<style scoped>\n",
       "    .dataframe tbody tr th:only-of-type {\n",
       "        vertical-align: middle;\n",
       "    }\n",
       "\n",
       "    .dataframe tbody tr th {\n",
       "        vertical-align: top;\n",
       "    }\n",
       "\n",
       "    .dataframe thead th {\n",
       "        text-align: right;\n",
       "    }\n",
       "</style>\n",
       "<table border=\"1\" class=\"dataframe\">\n",
       "  <thead>\n",
       "    <tr style=\"text-align: right;\">\n",
       "      <th></th>\n",
       "      <th>Name</th>\n",
       "      <th>Trips Completed</th>\n",
       "      <th>Accept Rate</th>\n",
       "      <th>Supply Hours</th>\n",
       "      <th>Rating</th>\n",
       "    </tr>\n",
       "  </thead>\n",
       "  <tbody>\n",
       "    <tr>\n",
       "      <th>0</th>\n",
       "      <td>Abdul</td>\n",
       "      <td>1</td>\n",
       "      <td>100%</td>\n",
       "      <td>3</td>\n",
       "      <td>4.8</td>\n",
       "    </tr>\n",
       "    <tr>\n",
       "      <th>1</th>\n",
       "      <td>Abraham</td>\n",
       "      <td>12</td>\n",
       "      <td>83%</td>\n",
       "      <td>5</td>\n",
       "      <td>4.7</td>\n",
       "    </tr>\n",
       "    <tr>\n",
       "      <th>2</th>\n",
       "      <td>Adelina</td>\n",
       "      <td>1</td>\n",
       "      <td>100%</td>\n",
       "      <td>2</td>\n",
       "      <td>4.7</td>\n",
       "    </tr>\n",
       "    <tr>\n",
       "      <th>3</th>\n",
       "      <td>Akilah</td>\n",
       "      <td>1</td>\n",
       "      <td>100%</td>\n",
       "      <td>2</td>\n",
       "      <td>4.9</td>\n",
       "    </tr>\n",
       "    <tr>\n",
       "      <th>4</th>\n",
       "      <td>Alec</td>\n",
       "      <td>21</td>\n",
       "      <td>76%</td>\n",
       "      <td>11</td>\n",
       "      <td>5.0</td>\n",
       "    </tr>\n",
       "  </tbody>\n",
       "</table>\n",
       "</div>"
      ],
      "text/plain": [
       "      Name  Trips Completed Accept Rate  Supply Hours  Rating\n",
       "0    Abdul                1        100%             3     4.8\n",
       "1  Abraham               12         83%             5     4.7\n",
       "2  Adelina                1        100%             2     4.7\n",
       "3   Akilah                1        100%             2     4.9\n",
       "4     Alec               21         76%            11     5.0"
      ]
     },
     "execution_count": 2,
     "metadata": {},
     "output_type": "execute_result"
    }
   ],
   "source": [
    "# Read csv file as df and get the first 5 rows\n",
    "df = pd.read_csv('dataset_2.csv')\n",
    "\n",
    "df.head()\n"
   ]
  },
  {
   "cell_type": "code",
   "execution_count": 3,
   "id": "1d5d1d34-a823-4ded-97b6-b0a8d64ee30a",
   "metadata": {},
   "outputs": [
    {
     "data": {
      "text/plain": [
       "Name               0\n",
       "Trips Completed    0\n",
       "Accept Rate        0\n",
       "Supply Hours       0\n",
       "Rating             0\n",
       "dtype: int64"
      ]
     },
     "execution_count": 3,
     "metadata": {},
     "output_type": "execute_result"
    }
   ],
   "source": [
    "# Check if there's missing value\n",
    "df.isna().sum()"
   ]
  },
  {
   "cell_type": "code",
   "execution_count": 4,
   "id": "1a2c536a-527c-4aa9-a0b2-b4ef7de836f3",
   "metadata": {},
   "outputs": [
    {
     "data": {
      "text/html": [
       "<div>\n",
       "<style scoped>\n",
       "    .dataframe tbody tr th:only-of-type {\n",
       "        vertical-align: middle;\n",
       "    }\n",
       "\n",
       "    .dataframe tbody tr th {\n",
       "        vertical-align: top;\n",
       "    }\n",
       "\n",
       "    .dataframe thead th {\n",
       "        text-align: right;\n",
       "    }\n",
       "</style>\n",
       "<table border=\"1\" class=\"dataframe\">\n",
       "  <thead>\n",
       "    <tr style=\"text-align: right;\">\n",
       "      <th></th>\n",
       "      <th>Trips Completed</th>\n",
       "      <th>Supply Hours</th>\n",
       "      <th>Rating</th>\n",
       "    </tr>\n",
       "  </thead>\n",
       "  <tbody>\n",
       "    <tr>\n",
       "      <th>count</th>\n",
       "      <td>119.000000</td>\n",
       "      <td>119.000000</td>\n",
       "      <td>119.000000</td>\n",
       "    </tr>\n",
       "    <tr>\n",
       "      <th>mean</th>\n",
       "      <td>11.941176</td>\n",
       "      <td>7.084034</td>\n",
       "      <td>4.698571</td>\n",
       "    </tr>\n",
       "    <tr>\n",
       "      <th>std</th>\n",
       "      <td>5.857480</td>\n",
       "      <td>2.794000</td>\n",
       "      <td>0.406876</td>\n",
       "    </tr>\n",
       "    <tr>\n",
       "      <th>min</th>\n",
       "      <td>1.000000</td>\n",
       "      <td>1.000000</td>\n",
       "      <td>1.600000</td>\n",
       "    </tr>\n",
       "    <tr>\n",
       "      <th>25%</th>\n",
       "      <td>8.000000</td>\n",
       "      <td>5.000000</td>\n",
       "      <td>4.600000</td>\n",
       "    </tr>\n",
       "    <tr>\n",
       "      <th>50%</th>\n",
       "      <td>12.000000</td>\n",
       "      <td>7.000000</td>\n",
       "      <td>4.800000</td>\n",
       "    </tr>\n",
       "    <tr>\n",
       "      <th>75%</th>\n",
       "      <td>15.000000</td>\n",
       "      <td>9.000000</td>\n",
       "      <td>4.900000</td>\n",
       "    </tr>\n",
       "    <tr>\n",
       "      <th>max</th>\n",
       "      <td>31.000000</td>\n",
       "      <td>11.000000</td>\n",
       "      <td>5.000000</td>\n",
       "    </tr>\n",
       "  </tbody>\n",
       "</table>\n",
       "</div>"
      ],
      "text/plain": [
       "       Trips Completed  Supply Hours      Rating\n",
       "count       119.000000    119.000000  119.000000\n",
       "mean         11.941176      7.084034    4.698571\n",
       "std           5.857480      2.794000    0.406876\n",
       "min           1.000000      1.000000    1.600000\n",
       "25%           8.000000      5.000000    4.600000\n",
       "50%          12.000000      7.000000    4.800000\n",
       "75%          15.000000      9.000000    4.900000\n",
       "max          31.000000     11.000000    5.000000"
      ]
     },
     "execution_count": 4,
     "metadata": {},
     "output_type": "execute_result"
    }
   ],
   "source": [
    "df.describe()"
   ]
  },
  {
   "cell_type": "code",
   "execution_count": 5,
   "id": "fbba7bc6-6949-4b56-8a30-e9e30963d298",
   "metadata": {},
   "outputs": [
    {
     "name": "stdout",
     "output_type": "stream",
     "text": [
      "<class 'pandas.core.frame.DataFrame'>\n",
      "RangeIndex: 119 entries, 0 to 118\n",
      "Data columns (total 5 columns):\n",
      " #   Column           Non-Null Count  Dtype  \n",
      "---  ------           --------------  -----  \n",
      " 0   Name             119 non-null    object \n",
      " 1   Trips Completed  119 non-null    int64  \n",
      " 2   Accept Rate      119 non-null    object \n",
      " 3   Supply Hours     119 non-null    int64  \n",
      " 4   Rating           119 non-null    float64\n",
      "dtypes: float64(1), int64(2), object(2)\n",
      "memory usage: 4.8+ KB\n"
     ]
    }
   ],
   "source": [
    "df.info()"
   ]
  },
  {
   "cell_type": "code",
   "execution_count": 6,
   "id": "ece8de24-bec0-4b02-8561-dab602c85668",
   "metadata": {},
   "outputs": [
    {
     "data": {
      "text/html": [
       "<div>\n",
       "<style scoped>\n",
       "    .dataframe tbody tr th:only-of-type {\n",
       "        vertical-align: middle;\n",
       "    }\n",
       "\n",
       "    .dataframe tbody tr th {\n",
       "        vertical-align: top;\n",
       "    }\n",
       "\n",
       "    .dataframe thead th {\n",
       "        text-align: right;\n",
       "    }\n",
       "</style>\n",
       "<table border=\"1\" class=\"dataframe\">\n",
       "  <thead>\n",
       "    <tr style=\"text-align: right;\">\n",
       "      <th></th>\n",
       "      <th>Name</th>\n",
       "      <th>Trips Completed</th>\n",
       "      <th>Accept Rate</th>\n",
       "      <th>Supply Hours</th>\n",
       "      <th>Rating</th>\n",
       "    </tr>\n",
       "  </thead>\n",
       "  <tbody>\n",
       "    <tr>\n",
       "      <th>0</th>\n",
       "      <td>Abdul</td>\n",
       "      <td>1</td>\n",
       "      <td>100%</td>\n",
       "      <td>3</td>\n",
       "      <td>4.8</td>\n",
       "    </tr>\n",
       "    <tr>\n",
       "      <th>1</th>\n",
       "      <td>Abraham</td>\n",
       "      <td>12</td>\n",
       "      <td>83%</td>\n",
       "      <td>5</td>\n",
       "      <td>4.7</td>\n",
       "    </tr>\n",
       "    <tr>\n",
       "      <th>2</th>\n",
       "      <td>Adelina</td>\n",
       "      <td>1</td>\n",
       "      <td>100%</td>\n",
       "      <td>2</td>\n",
       "      <td>4.7</td>\n",
       "    </tr>\n",
       "    <tr>\n",
       "      <th>3</th>\n",
       "      <td>Akilah</td>\n",
       "      <td>1</td>\n",
       "      <td>100%</td>\n",
       "      <td>2</td>\n",
       "      <td>4.9</td>\n",
       "    </tr>\n",
       "    <tr>\n",
       "      <th>4</th>\n",
       "      <td>Alec</td>\n",
       "      <td>21</td>\n",
       "      <td>76%</td>\n",
       "      <td>11</td>\n",
       "      <td>5.0</td>\n",
       "    </tr>\n",
       "    <tr>\n",
       "      <th>...</th>\n",
       "      <td>...</td>\n",
       "      <td>...</td>\n",
       "      <td>...</td>\n",
       "      <td>...</td>\n",
       "      <td>...</td>\n",
       "    </tr>\n",
       "    <tr>\n",
       "      <th>114</th>\n",
       "      <td>Virgen</td>\n",
       "      <td>4</td>\n",
       "      <td>100%</td>\n",
       "      <td>6</td>\n",
       "      <td>4.5</td>\n",
       "    </tr>\n",
       "    <tr>\n",
       "      <th>115</th>\n",
       "      <td>Yang</td>\n",
       "      <td>7</td>\n",
       "      <td>71%</td>\n",
       "      <td>2</td>\n",
       "      <td>4.5</td>\n",
       "    </tr>\n",
       "    <tr>\n",
       "      <th>116</th>\n",
       "      <td>Yessenia</td>\n",
       "      <td>8</td>\n",
       "      <td>88%</td>\n",
       "      <td>5</td>\n",
       "      <td>5.0</td>\n",
       "    </tr>\n",
       "    <tr>\n",
       "      <th>117</th>\n",
       "      <td>Yukiko</td>\n",
       "      <td>9</td>\n",
       "      <td>78%</td>\n",
       "      <td>6</td>\n",
       "      <td>4.5</td>\n",
       "    </tr>\n",
       "    <tr>\n",
       "      <th>118</th>\n",
       "      <td>Zoe</td>\n",
       "      <td>21</td>\n",
       "      <td>86%</td>\n",
       "      <td>9</td>\n",
       "      <td>4.9</td>\n",
       "    </tr>\n",
       "  </tbody>\n",
       "</table>\n",
       "<p>119 rows × 5 columns</p>\n",
       "</div>"
      ],
      "text/plain": [
       "         Name  Trips Completed Accept Rate  Supply Hours  Rating\n",
       "0       Abdul                1        100%             3     4.8\n",
       "1     Abraham               12         83%             5     4.7\n",
       "2     Adelina                1        100%             2     4.7\n",
       "3      Akilah                1        100%             2     4.9\n",
       "4        Alec               21         76%            11     5.0\n",
       "..        ...              ...         ...           ...     ...\n",
       "114    Virgen                4        100%             6     4.5\n",
       "115      Yang                7         71%             2     4.5\n",
       "116  Yessenia                8         88%             5     5.0\n",
       "117    Yukiko                9         78%             6     4.5\n",
       "118       Zoe               21         86%             9     4.9\n",
       "\n",
       "[119 rows x 5 columns]"
      ]
     },
     "execution_count": 6,
     "metadata": {},
     "output_type": "execute_result"
    }
   ],
   "source": [
    "# Check if there's duplicates\n",
    "df.drop_duplicates()"
   ]
  },
  {
   "cell_type": "markdown",
   "id": "c113ce59-7a7f-4c9b-a919-c5be4ddddd93",
   "metadata": {},
   "source": [
    "There is no duplicates."
   ]
  },
  {
   "cell_type": "markdown",
   "id": "942d8d1c-0688-43c5-b789-3a98b60fa829",
   "metadata": {},
   "source": [
    "Since the `Accept Rate` is in type object we won't be able to work on it. Let's change it to integer"
   ]
  },
  {
   "cell_type": "code",
   "execution_count": 7,
   "id": "da988a8a-8844-4aeb-87f1-d96298b95710",
   "metadata": {},
   "outputs": [],
   "source": [
    "# Remove % from the value and chaneg the datatype to integer\n",
    "df['Accept Rate'] = df['Accept Rate'].str.replace('%', '').astype('int')"
   ]
  },
  {
   "cell_type": "code",
   "execution_count": 8,
   "id": "a349ceab-b17f-433b-b41d-ae5c86bd6b95",
   "metadata": {},
   "outputs": [
    {
     "name": "stdout",
     "output_type": "stream",
     "text": [
      "<class 'pandas.core.frame.DataFrame'>\n",
      "RangeIndex: 119 entries, 0 to 118\n",
      "Data columns (total 5 columns):\n",
      " #   Column           Non-Null Count  Dtype  \n",
      "---  ------           --------------  -----  \n",
      " 0   Name             119 non-null    object \n",
      " 1   Trips Completed  119 non-null    int64  \n",
      " 2   Accept Rate      119 non-null    int64  \n",
      " 3   Supply Hours     119 non-null    int64  \n",
      " 4   Rating           119 non-null    float64\n",
      "dtypes: float64(1), int64(3), object(1)\n",
      "memory usage: 4.8+ KB\n"
     ]
    }
   ],
   "source": [
    "df.info()"
   ]
  },
  {
   "cell_type": "markdown",
   "id": "661a83de-7182-4597-9891-a811f1cb67fa",
   "metadata": {},
   "source": [
    "Total number of drivers is 119, with no duplicates or missing data. Let's move on to solving our questions. "
   ]
  },
  {
   "cell_type": "markdown",
   "id": "9bfc6723-e5a6-4d62-8dd3-36eae47150e7",
   "metadata": {},
   "source": [
    "## Scenario 1\n",
    "\n",
    "Uber providing two bonus options in terms of cost:\n",
    "\n",
    "- Option 1: $50 for each driver that is online at least 8 hours, accepts 90% of requests, completes 10 trips, and has a rating of 4.7 or better during the time frame;"
   ]
  },
  {
   "cell_type": "markdown",
   "id": "49b02d66-85f9-43ce-9fb1-040cd01d39ea",
   "metadata": {},
   "source": [
    "<b>How much would the total bonus payout be with Option 1?</b>"
   ]
  },
  {
   "cell_type": "code",
   "execution_count": 9,
   "id": "05c97154-0c01-40b9-bbee-0d59258ef5d6",
   "metadata": {},
   "outputs": [
    {
     "name": "stdout",
     "output_type": "stream",
     "text": [
      "Total Bonus Payout for Option 1: $1050\n"
     ]
    }
   ],
   "source": [
    "option1_df = df[(df['Supply Hours'] >= 8) & (df['Accept Rate'] >= 90) & (df['Trips Completed'] >= 10) & (df['Rating'] >= 4.7)]\n",
    "option1_count = option1_df['Name'].count()\n",
    "\n",
    "print(f\"Total Bonus Payout for Option 1: ${option1_count * 50}\")"
   ]
  },
  {
   "cell_type": "markdown",
   "id": "21ef85b1-5b00-43d7-9542-3445ebd70072",
   "metadata": {},
   "source": [
    "- Option 2: $4/trip for all drivers who complete 12 trips, and have a 4.7 or better rating. Using the dataset provided and given Scenario 1, provide answers to the questions below:\n",
    "\n",
    "<b>How much would the total bonus payout be with Option 2?</b>"
   ]
  },
  {
   "cell_type": "code",
   "execution_count": 10,
   "id": "6ff41a72-1ca0-408e-bca2-73877c26a878",
   "metadata": {},
   "outputs": [
    {
     "name": "stdout",
     "output_type": "stream",
     "text": [
      "Total Bonus Payout for Option 2: $2976\n"
     ]
    }
   ],
   "source": [
    "option2_df = df[(df['Trips Completed'] >= 12) & (df['Rating']>=4.7)]\n",
    "option2_sum = option2_df['Trips Completed'].sum()\n",
    "\n",
    "print(f\"Total Bonus Payout for Option 2: ${option2_sum * 4}\")"
   ]
  },
  {
   "cell_type": "markdown",
   "id": "ae0f5990-200a-4389-83e6-b70c3169791b",
   "metadata": {},
   "source": [
    "<b>How many drivers would qualify for a bonus under Option 1 but not under Option 2?</b>"
   ]
  },
  {
   "cell_type": "code",
   "execution_count": 11,
   "id": "2fc11014-4a9a-403a-b56a-90cb54029e71",
   "metadata": {},
   "outputs": [
    {
     "name": "stdout",
     "output_type": "stream",
     "text": [
      "Number of Drivers Qualify for Option 1 but not for Option 2: 2 Drivers\n"
     ]
    }
   ],
   "source": [
    "filtered_df = df[(df['Name'].isin(option1_df['Name'])) & (~df['Name'].isin(option2_df['Name']))]\n",
    "op1_notop2 = filtered_df['Name'].count()\n",
    "\n",
    "print(f\"Number of Drivers Qualify for Option 1 but not for Option 2: {op1_notop2} Drivers\")"
   ]
  },
  {
   "cell_type": "code",
   "execution_count": 12,
   "id": "99026fe3-4a51-488c-b45f-aaa14b84fbec",
   "metadata": {},
   "outputs": [
    {
     "data": {
      "text/html": [
       "<div>\n",
       "<style scoped>\n",
       "    .dataframe tbody tr th:only-of-type {\n",
       "        vertical-align: middle;\n",
       "    }\n",
       "\n",
       "    .dataframe tbody tr th {\n",
       "        vertical-align: top;\n",
       "    }\n",
       "\n",
       "    .dataframe thead th {\n",
       "        text-align: right;\n",
       "    }\n",
       "</style>\n",
       "<table border=\"1\" class=\"dataframe\">\n",
       "  <thead>\n",
       "    <tr style=\"text-align: right;\">\n",
       "      <th></th>\n",
       "      <th>Name</th>\n",
       "      <th>Trips Completed</th>\n",
       "      <th>Accept Rate</th>\n",
       "      <th>Supply Hours</th>\n",
       "      <th>Rating</th>\n",
       "    </tr>\n",
       "  </thead>\n",
       "  <tbody>\n",
       "    <tr>\n",
       "      <th>88</th>\n",
       "      <td>Oren</td>\n",
       "      <td>11</td>\n",
       "      <td>91</td>\n",
       "      <td>9</td>\n",
       "      <td>4.8</td>\n",
       "    </tr>\n",
       "    <tr>\n",
       "      <th>92</th>\n",
       "      <td>Phyllis</td>\n",
       "      <td>10</td>\n",
       "      <td>90</td>\n",
       "      <td>8</td>\n",
       "      <td>4.8</td>\n",
       "    </tr>\n",
       "  </tbody>\n",
       "</table>\n",
       "</div>"
      ],
      "text/plain": [
       "       Name  Trips Completed  Accept Rate  Supply Hours  Rating\n",
       "88     Oren               11           91             9     4.8\n",
       "92  Phyllis               10           90             8     4.8"
      ]
     },
     "execution_count": 12,
     "metadata": {},
     "output_type": "execute_result"
    }
   ],
   "source": [
    "filtered_df"
   ]
  },
  {
   "cell_type": "markdown",
   "id": "6e23398c-0872-437c-9d8f-b42760806044",
   "metadata": {},
   "source": [
    "<b>What percentages of drivers online completed less than 10 trips, had an acceptance rate of less than 90%, and had a rating of 4.7 or higher?"
   ]
  },
  {
   "cell_type": "code",
   "execution_count": 13,
   "id": "415894fa-8168-4138-ade6-50de4b4a876b",
   "metadata": {},
   "outputs": [
    {
     "name": "stdout",
     "output_type": "stream",
     "text": [
      "Percentages of drivers: 10.92%\n"
     ]
    }
   ],
   "source": [
    "less10trip_df = df[(df['Trips Completed'] < 10) & (df['Accept Rate'] < 90) & (df['Rating'] >= 4.7)]\n",
    "less10trip_numbers = less10trip_df['Name'].count()\n",
    "\n",
    "print(f\"Percentages of drivers: {round(less10trip_numbers/df['Name'].count() * 100, 2)}%\")"
   ]
  },
  {
   "cell_type": "markdown",
   "id": "3980301e-3c2f-4972-8c9c-3c7f06bfd71e",
   "metadata": {},
   "source": [
    "## Scenario 2"
   ]
  },
  {
   "cell_type": "markdown",
   "id": "4b261e3e-27f6-42f1-b5d3-92f2d9b6d447",
   "metadata": {},
   "source": [
    "A taxi driver currently generates $200 per day in fares (before expenses), works six days a week, takes three weeks off, and has the following expenses:\n",
    "\n",
    "- Gas - \\$200 per week\n",
    "- Insurance - \\$400 per month\n",
    "- Vehicle rent (by the week) - $500\n",
    "\n",
    "The driver doesn't pay gas and rent expenses on off weeks.\n",
    "\n",
    "Now, let's assume that the same driver would buy a Town Car and partner with Uber. If he does, his gas expenses would go up by 5%, his insurance expense would decrease by 20%, and he would no longer be renting a vehicle. However, he would need to buy a car. The driver would still take three weeks off per year."
   ]
  },
  {
   "cell_type": "markdown",
   "id": "68eb3c61-4fbe-4c4f-a348-c64f9ab48df4",
   "metadata": {},
   "source": [
    "<b>How much money (after expenses) does the taxi driver make per year without partnering with Uber?"
   ]
  },
  {
   "cell_type": "code",
   "execution_count": 35,
   "id": "1b06ad97-30c5-4d9b-b15f-36a27e64fb12",
   "metadata": {},
   "outputs": [],
   "source": [
    "# Set parameters to avoid hardcoding\n",
    "\n",
    "total_week_in_year = 52\n",
    "working_days_in_week = 6\n",
    "weeks_off = 3\n",
    "total_months_in_year = 12\n",
    "fare_per_day = 200\n",
    "\n",
    "# Expenses\n",
    "gas_per_week = 200\n",
    "insurance_per_month = 400\n",
    "vehicle_rent_per_week = 500"
   ]
  },
  {
   "cell_type": "code",
   "execution_count": 24,
   "id": "d63d621c-c970-4efa-9e12-a22e2dc18c39",
   "metadata": {},
   "outputs": [
    {
     "name": "stdout",
     "output_type": "stream",
     "text": [
      "$58800\n"
     ]
    }
   ],
   "source": [
    "total_revenue = (total_week_in_year - weeks_off) * working_days_in_week * fare_per_day\n",
    "print(f\"${total_revenue}\")"
   ]
  },
  {
   "cell_type": "code",
   "execution_count": 28,
   "id": "8146e417-a50a-43df-aa79-aa0fdc818717",
   "metadata": {},
   "outputs": [
    {
     "name": "stdout",
     "output_type": "stream",
     "text": [
      "$39100\n"
     ]
    }
   ],
   "source": [
    "total_cost = (total_week_in_year - weeks_off) * (gas_per_week + vehicle_rent_per_week) + total_months_in_year * insurance_per_month\n",
    "print(f\"${total_cost}\")"
   ]
  },
  {
   "cell_type": "code",
   "execution_count": 30,
   "id": "732730ba-3ffc-4f48-92bf-1f7a811da681",
   "metadata": {},
   "outputs": [
    {
     "name": "stdout",
     "output_type": "stream",
     "text": [
      "$19700\n"
     ]
    }
   ],
   "source": [
    "total_profit = total_revenue - total_cost\n",
    "print(f\"${total_profit}\")"
   ]
  },
  {
   "cell_type": "markdown",
   "id": "203b3549-3a05-4acc-a50d-254d61de6e74",
   "metadata": {},
   "source": [
    "<b>You are convincing the same driver above to buy a Town Car and partner with Uber. Assuming the new car is 40,000 USD, how much would the driver's gross fares need to increase per week to fully pay for the car in year 1 and maintain the same yearly profit margin as before?"
   ]
  },
  {
   "cell_type": "code",
   "execution_count": 38,
   "id": "714606ed-0093-45a7-9547-8e99fb4b4093",
   "metadata": {},
   "outputs": [],
   "source": [
    "# New costs parameters\n",
    "# Gas expense go up by 5% per week\n",
    "# Insurance drop by 20% (paying only 80% from current amount) per month\n",
    "new_car_cost = 40000\n",
    "new_gas_per_week = 200 * 1.05\n",
    "new_insurance_per_month = 400 * 0.8"
   ]
  },
  {
   "cell_type": "code",
   "execution_count": 34,
   "id": "a91d2d7a-2471-4dcc-9579-5c8989f34d4d",
   "metadata": {},
   "outputs": [
    {
     "data": {
      "text/plain": [
       "54130.0"
      ]
     },
     "execution_count": 34,
     "metadata": {},
     "output_type": "execute_result"
    }
   ],
   "source": [
    "# Cost per for year 1 partnering with Uber buying the Town Car\n",
    "# Add the cost of buying a town car (40000)\n",
    "uber_partner_cost = new_car_cost + new_gas_per_week * (total_week_in_year - weeks_off) + new_insurance_per_month * total_months_in_year\n",
    "uber_partner_cost"
   ]
  },
  {
   "cell_type": "code",
   "execution_count": 53,
   "id": "a4151b23-6eec-476c-b68c-66094e2308d7",
   "metadata": {},
   "outputs": [
    {
     "name": "stdout",
     "output_type": "stream",
     "text": [
      "Driver's Gross Fares needed to Increase: $106.73\n",
      "Driver's Gross Fare needed: $306.73\n"
     ]
    }
   ],
   "source": [
    "gross_fare_increase_needed = (uber_partner_cost + total_profit - total_revenue) / (total_week_in_year - weeks_off)\n",
    "print(f\"Driver's Gross Fares needed to Increase: ${round(gross_fare_increase_needed - fare_per_day, 2)}\")\n",
    "print(f\"Driver's Gross Fare needed: ${round(gross_fare_increase_needed, 2)}\")"
   ]
  }
 ],
 "metadata": {
  "kernelspec": {
   "display_name": "Python 3 (ipykernel)",
   "language": "python",
   "name": "python3"
  },
  "language_info": {
   "codemirror_mode": {
    "name": "ipython",
    "version": 3
   },
   "file_extension": ".py",
   "mimetype": "text/x-python",
   "name": "python",
   "nbconvert_exporter": "python",
   "pygments_lexer": "ipython3",
   "version": "3.12.7"
  }
 },
 "nbformat": 4,
 "nbformat_minor": 5
}
